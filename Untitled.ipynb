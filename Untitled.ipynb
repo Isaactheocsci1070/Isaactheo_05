{
 "cells": [
  {
   "cell_type": "code",
   "execution_count": null,
   "id": "7a0bf207-2dc5-44cb-83bd-ea2a246120fd",
   "metadata": {},
   "outputs": [],
   "source": []
  }
 ],
 "metadata": {
  "kernelspec": {
   "display_name": "",
   "name": ""
  },
  "language_info": {
   "name": ""
  }
 },
 "nbformat": 4,
 "nbformat_minor": 5
}
